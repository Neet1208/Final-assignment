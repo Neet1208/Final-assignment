{
 "cells": [
  {
   "cell_type": "markdown",
   "id": "8aa05470-27a4-46ae-b89f-85503e2afa35",
   "metadata": {},
   "source": [
    "# My Jupyter Notebook on IBM Watson Studio"
   ]
  },
  {
   "cell_type": "markdown",
   "id": "f02683e5-096f-4d95-a2be-a81f6469c18f",
   "metadata": {},
   "source": [
    "PUNEET VASDEV\n",
    "Solutions Consultant"
   ]
  },
  {
   "cell_type": "markdown",
   "id": "23595cd8-bb20-43ac-8e4c-26ee3f1864a5",
   "metadata": {},
   "source": [
    "*i am interested in data science because i want to direct my career in analytics and data science field as it is new emerging job sector for the future*"
   ]
  },
  {
   "cell_type": "markdown",
   "id": "17b601e3-f1fe-4a2d-92d3-8aa53c153b01",
   "metadata": {},
   "source": [
    "### My code is a simple addition formula where i am adding two numbers"
   ]
  },
  {
   "cell_type": "code",
   "execution_count": 1,
   "id": "3ced1d3e-950c-4179-b149-949f3ae8c19b",
   "metadata": {},
   "outputs": [
    {
     "data": {
      "text/plain": [
       "2"
      ]
     },
     "execution_count": 1,
     "metadata": {},
     "output_type": "execute_result"
    }
   ],
   "source": [
    "1+1"
   ]
  },
  {
   "cell_type": "markdown",
   "id": "65144fe0-3a3a-4d72-a926-45d1b31159d5",
   "metadata": {},
   "source": [
    "> Name of boys\n",
    "- JACK\n",
    "- RASSO\n",
    "- NEET"
   ]
  },
  {
   "cell_type": "code",
   "execution_count": null,
   "id": "ea0cae89-e135-43ce-b615-2ff548a81a88",
   "metadata": {},
   "outputs": [],
   "source": []
  }
 ],
 "metadata": {
  "kernelspec": {
   "display_name": "Python",
   "language": "python",
   "name": "conda-env-python-py"
  },
  "language_info": {
   "codemirror_mode": {
    "name": "ipython",
    "version": 3
   },
   "file_extension": ".py",
   "mimetype": "text/x-python",
   "name": "python",
   "nbconvert_exporter": "python",
   "pygments_lexer": "ipython3",
   "version": "3.7.12"
  }
 },
 "nbformat": 4,
 "nbformat_minor": 5
}
